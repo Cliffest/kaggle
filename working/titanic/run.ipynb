{
 "cells": [
  {
   "cell_type": "code",
   "execution_count": 7,
   "metadata": {},
   "outputs": [],
   "source": [
    "import os\n",
    "\n",
    "from titanic.dataset import get_input_data\n",
    "from titanic.models import MLP\n",
    "from titanic.train import trainer"
   ]
  },
  {
   "cell_type": "code",
   "execution_count": 8,
   "metadata": {},
   "outputs": [],
   "source": [
    "class args:\n",
    "    model = MLP\n",
    "    epochs = 10\n",
    "    batch_size = 32\n",
    "    lr = 1e-3\n",
    "    train_file = \"train.csv\"\n",
    "    save_dir = \"model/\"\n",
    "\n",
    "    test_file = \"test.csv\"\n",
    "    output_dir = \"output/\"\n",
    "    output_name = \"submission.csv\"\n",
    "\n",
    "model_trainer = trainer(args.model, args.epochs, args.batch_size, args.lr, args.train_file, args.save_dir)"
   ]
  },
  {
   "cell_type": "code",
   "execution_count": 9,
   "metadata": {},
   "outputs": [
    {
     "name": "stdout",
     "output_type": "stream",
     "text": [
      "Using device: cpu\n",
      "None None\n",
      "Set model to cpu\n",
      "\n",
      "Training model...\n",
      "Epoch [10/10], Loss: 0.5552\n",
      "Model and preprocessing tools saved to model/\n"
     ]
    }
   ],
   "source": [
    "# Train\n",
    "model_trainer.train()"
   ]
  },
  {
   "cell_type": "code",
   "execution_count": 12,
   "metadata": {},
   "outputs": [
    {
     "name": "stdout",
     "output_type": "stream",
     "text": [
      "Model Evaluation on test set:\n",
      "\n",
      "Accuracy: 0.7207\n",
      "\n",
      "Classification Report:\n",
      "              precision    recall  f1-score   support\n",
      "\n",
      "         0.0       0.71      0.90      0.79       105\n",
      "         1.0       0.76      0.47      0.58        74\n",
      "\n",
      "    accuracy                           0.72       179\n",
      "   macro avg       0.73      0.68      0.69       179\n",
      "weighted avg       0.73      0.72      0.70       179\n",
      "\n"
     ]
    }
   ],
   "source": [
    "# Evaluate\n",
    "print(\"Model Evaluation on test set:\\n\")\n",
    "model_trainer.evaluate()"
   ]
  },
  {
   "cell_type": "code",
   "execution_count": 13,
   "metadata": {},
   "outputs": [
    {
     "name": "stdout",
     "output_type": "stream",
     "text": [
      "Loading model and making predictions...\n",
      "\n",
      "Using device: cpu\n",
      "SimpleImputer(strategy='median') StandardScaler()\n",
      "Set model to cpu\n",
      "Save output results to output/submission.csv\n"
     ]
    },
    {
     "name": "stderr",
     "output_type": "stream",
     "text": [
      "d:\\MyFiles\\SYNC_win\\kaggle\\working\\titanic\\titanic\\train.py:126: FutureWarning: You are using `torch.load` with `weights_only=False` (the current default value), which uses the default pickle module implicitly. It is possible to construct malicious pickle data which will execute arbitrary code during unpickling (See https://github.com/pytorch/pytorch/blob/main/SECURITY.md#untrusted-models for more details). In a future release, the default value for `weights_only` will be flipped to `True`. This limits the functions that could be executed during unpickling. Arbitrary objects will no longer be allowed to be loaded via this mode unless they are explicitly allowlisted by the user via `torch.serialization.add_safe_globals`. We recommend you start setting `weights_only=True` for any use case where you don't have full control of the loaded file. Please open an issue on GitHub for any issues related to this experimental feature.\n",
      "  self.model.load_state_dict(torch.load(self.model_save_path))\n"
     ]
    }
   ],
   "source": [
    "# Test\n",
    "print(\"Loading model and making predictions...\\n\")\n",
    "model_trainer.test(args.test_file, os.path.join(args.output_dir, args.output_name))"
   ]
  }
 ],
 "metadata": {
  "kernelspec": {
   "display_name": "base",
   "language": "python",
   "name": "python3"
  },
  "language_info": {
   "codemirror_mode": {
    "name": "ipython",
    "version": 3
   },
   "file_extension": ".py",
   "mimetype": "text/x-python",
   "name": "python",
   "nbconvert_exporter": "python",
   "pygments_lexer": "ipython3",
   "version": "3.12.4"
  }
 },
 "nbformat": 4,
 "nbformat_minor": 2
}
